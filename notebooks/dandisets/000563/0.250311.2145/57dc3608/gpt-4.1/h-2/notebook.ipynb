{
 "cells": [
  {
   "cell_type": "markdown",
   "id": "cee2e2fc",
   "metadata": {},
   "source": [
    "# Exploring Dandiset 000563: Barcoding in Visual System Responses\n",
    "\n",
    "*Allen Institute Openscope - Barcoding* ([View Dandiset](https://dandiarchive.org/dandiset/000563/0.250311.2145))\n",
    "\n",
    "---\n",
    "\n",
    "**Notebook generated with the assistance of AI. Please review both code and results carefully before interpreting or reusing them for your research.**\n",
    "\n",
    "---\n",
    "\n",
    "## Overview\n",
    "\n",
    "Dandiset 000563 contains multi-modal electrophysiological recordings from the mouse visual system, acquired by the Allen Institute using Neuropixels probes and optogenetic tagging. The dataset focuses on the “barcoding” phenomenon—highly repeatable, temporally distinct spike patterns evoked by repeated visual white noise stimuli.\n",
    "\n",
    "The dataset uses NWB (Neurodata Without Borders) format and features:\n",
    "- Spike-sorted units\n",
    "- Precise stimulus timing (e.g., full-field flicker, static gratings)\n",
    "- Behavioral monitoring (running wheel, eye tracking)\n",
    "- Optogenetic stimulation (with intervals)\n",
    "\n",
    "[DANDI Archive Link](https://dandiarchive.org/dandiset/000563/0.250311.2145)\n",
    "\n",
    "---\n",
    "\n",
    "## What This Notebook Covers\n",
    "\n",
    "- How to find and load NWB files from the Dandiset using the DANDI API (remotely)\n",
    "- How to inspect high-level metadata and NWB file structure\n",
    "- How to efficiently access and visualize:\n",
    "  - Subject/session metadata\n",
    "  - Spike-sorted units and their spike trains using the correct approach (`units.spike_times_index[i]`)\n",
    "  - Stimulus structure and epochs\n",
    "  - Behavioral signals (running speed, eye tracking)\n",
    "  - Optogenetic stimulation events\n",
    "- How to find stimulus-responsive units and plot spike rasters for repeated stimuli\n",
    "\n",
    "Along the way, you’ll find code examples and visualizations to help you get started with your own analyses.\n",
    "\n",
    "---\n",
    "\n",
    "## Required Packages\n",
    "\n",
    "This notebook assumes you have the following packages available:\n",
    "- dandi\n",
    "- remfile\n",
    "- h5py\n",
    "- pynwb\n",
    "- pandas\n",
    "- numpy\n",
    "- matplotlib\n",
    "\n",
    "---\n",
    "\n",
    "## 1. Connecting to the Dandiset and Listing NWB Files"
   ]
  },
  {
   "cell_type": "code",
   "execution_count": null,
   "id": "38b6fdb2",
   "metadata": {},
   "outputs": [],
   "source": [
    "# Import standard libraries for data streaming and analysis\n",
    "from dandi.dandiapi import DandiAPIClient\n",
    "from itertools import islice\n",
    "\n",
    "# Open connection to DANDI\n",
    "client = DandiAPIClient()\n",
    "dandiset_id = \"000563\"\n",
    "dandiset_version = \"0.250311.2145\"\n",
    "dandiset = client.get_dandiset(dandiset_id, dandiset_version)\n",
    "\n",
    "# List all NWB files (first 10 shown for illustration)\n",
    "assets = list(dandiset.get_assets_by_glob(\"*.nwb\"))\n",
    "print(f\"Total NWB files in dandiset {dandiset_id}: {len(assets)}\")\n",
    "print(\"First 10 NWB files:\")\n",
    "for asset in islice(assets, 10):\n",
    "    print(f\"- {asset.path}\")"
   ]
  },
  {
   "cell_type": "markdown",
   "id": "f30bd49d",
   "metadata": {},
   "source": [
    "The main, richly-annotated NWB files are those containing `_ogen.nwb` in their names. These include subject/session metadata, spike-sorted units, behavioral data, detailed stimuli and optogenetic events.\n",
    "\n",
    "Let's select one of these files for further exploration:"
   ]
  },
  {
   "cell_type": "code",
   "execution_count": null,
   "id": "cbe53564",
   "metadata": {},
   "outputs": [],
   "source": [
    "# Find main data files with 'ogen' in the filename\n",
    "ogen_files = [asset for asset in assets if \"ogen\" in asset.path]\n",
    "session_path = ogen_files[0].path\n",
    "print(f\"Example main NWB file selected:\\n{session_path}\")"
   ]
  },
  {
   "cell_type": "markdown",
   "id": "60f25d5b",
   "metadata": {},
   "source": [
    "## 2. Loading the NWB File Remotely (Streaming)\n",
    "\n",
    "The file is accessed directly from the DANDI cloud, streamed via the `remfile` package to avoid downloading the entire file.\n",
    "\n",
    "**Note:** This method works for exploration and smaller-scale data access. For very large-scale analyses, consider transferring files locally.\n"
   ]
  },
  {
   "cell_type": "code",
   "execution_count": null,
   "id": "fcb59540",
   "metadata": {
    "lines_to_next_cell": 1
   },
   "outputs": [],
   "source": [
    "import h5py\n",
    "import pynwb\n",
    "import remfile\n",
    "\n",
    "# Set up for remote streaming via DANDI/remfile/h5py\n",
    "asset = next(dandiset.get_assets_by_glob(session_path))\n",
    "remote_file = remfile.File(asset.download_url)\n",
    "h5_file = h5py.File(remote_file, 'r')\n",
    "io = pynwb.NWBHDF5IO(file=h5_file, load_namespaces=True)\n",
    "nwb = io.read()\n",
    "print(\"File loaded successfully.\")"
   ]
  },
  {
   "cell_type": "markdown",
   "id": "6debf17f",
   "metadata": {},
   "source": [
    "---\n",
    "## 3. Inspecting the NWB File: Metadata and Organization\n",
    "\n",
    "Let's examine session metadata, the structure of electrodes and units, available stimuli, processing modules, and acquisition timeseries."
   ]
  },
  {
   "cell_type": "code",
   "execution_count": null,
   "id": "a3c72640",
   "metadata": {},
   "outputs": [],
   "source": [
    "# Extract key information about the session and file structure\n",
    "def get_nwb_overview(nwb):\n",
    "    subject = nwb.subject\n",
    "    overview = dict(\n",
    "        session_id = getattr(nwb, \"session_id\", None),\n",
    "        session_date = str(nwb.session_start_time.date()),\n",
    "        subject_id = getattr(subject, \"subject_id\", None),\n",
    "        species = getattr(subject, \"species\", None),\n",
    "        sex = getattr(subject, \"sex\", None),\n",
    "        age = getattr(subject, \"age\", None),\n",
    "        genotype = getattr(subject, \"genotype\", None),\n",
    "        electrodes = nwb.electrodes.to_dataframe().shape[0],\n",
    "        units = nwb.units.to_dataframe().shape[0],\n",
    "        stimulus_blocks = list(nwb.intervals.keys()),\n",
    "        acquisition = list(nwb.acquisition.keys()),\n",
    "        processing_modules = list(nwb.processing.keys())\n",
    "    )\n",
    "    return overview\n",
    "\n",
    "meta = get_nwb_overview(nwb)\n",
    "print(\"Session/Subject Metadata:\")\n",
    "for k, v in meta.items():\n",
    "    print(f\"{k}: {v}\")"
   ]
  },
  {
   "cell_type": "markdown",
   "id": "6476726b",
   "metadata": {},
   "source": [
    "---\n",
    "## 4. Exploring Stimulus Structure\n",
    "\n",
    "Each stimulus type (e.g. `RepeatFFF_presentations`) is stored as a `TimeIntervals` table.\n",
    "\n",
    "Let's examine the timing and structure of the `RepeatFFF` stimulus epochs and view the distribution and variability of trial durations."
   ]
  },
  {
   "cell_type": "code",
   "execution_count": null,
   "id": "f8f45fb8",
   "metadata": {},
   "outputs": [],
   "source": [
    "import pandas as pd\n",
    "import matplotlib.pyplot as plt\n",
    "\n",
    "repeatfff_df = nwb.intervals['RepeatFFF_presentations'].to_dataframe()\n",
    "onsets = repeatfff_df['start_time'].values[:1000]\n",
    "durations = (repeatfff_df['stop_time'] - repeatfff_df['start_time']).values[:1000]\n",
    "\n",
    "plt.figure(figsize=(10, 4))\n",
    "plt.plot(onsets, durations, '.', alpha=0.7)\n",
    "plt.xlabel('Stimulus Onset Time (s)')\n",
    "plt.ylabel('Duration (s)')\n",
    "plt.title('RepeatFFF Presentation Intervals (First 1000)')\n",
    "plt.tight_layout()\n",
    "plt.show()\n",
    "\n",
    "# Show a sample of relevant properties for a few epochs\n",
    "properties = ['contrast', 'orientation', 'spatial_frequency', 'size', 'phase', 'units']\n",
    "print(\"Sample RepeatFFF stimulus properties:\")\n",
    "print(repeatfff_df[properties].head())"
   ]
  },
  {
   "cell_type": "markdown",
   "id": "19d4fcec",
   "metadata": {},
   "source": [
    "The plot above shows extremely regular, precisely timed trial durations for repeated flicker stimuli, confirming the strong experimental control in this dataset.\n",
    "\n",
    "The properties DataFrame shows each trial’s parameters, supporting parameter-specific analyses.\n",
    "\n",
    "---\n",
    "## 5. Efficiently Accessing and Visualizing Spike Trains\n",
    "\n",
    "To work efficiently with spike trains, you should avoid loading the entire units table. Instead, use `units.spike_times_index[i]` to retrieve spike times for the *i*-th unit.\n",
    "\n",
    "Below, we screen all units to find the one with the most spikes in a window around RepeatFFF trials, then visualize its spike raster aligned to stimulus onset. This increases the chances of observing stimulus-driven activity."
   ]
  },
  {
   "cell_type": "code",
   "execution_count": null,
   "id": "be029c4f",
   "metadata": {},
   "outputs": [],
   "source": [
    "import numpy as np\n",
    "\n",
    "# Get the first 100 RepeatFFF stimulus onsets for quick raster construction\n",
    "n_trials = 100\n",
    "trial_onsets = repeatfff_df['start_time'].values[:n_trials]\n",
    "window = [-0.05, 0.05]  # 50 ms pre/post onset\n",
    "\n",
    "# Function to count spikes per unit in the stimulus-aligned window\n",
    "def count_aligned_spikes(spike_times, onsets, window):\n",
    "    return sum([(spike_times >= onset + window[0]) & (spike_times < onset + window[1])).sum() for onset in onsets])\n",
    "\n",
    "unit_count = len(nwb.units.id)\n",
    "spike_counts = []\n",
    "for i in range(unit_count):\n",
    "    spike_times = nwb.units.spike_times_index[i]  # the spike vector for unit i\n",
    "    spike_counts.append(count_aligned_spikes(spike_times, trial_onsets, window))\n",
    "\n",
    "best_unit_idx = int(np.argmax(spike_counts))\n",
    "print(f\"Best responsive unit index: {best_unit_idx} | spikes in window: {spike_counts[best_unit_idx]}\")\n",
    "\n",
    "# Raster for the most stimulus-responsive unit\n",
    "spike_times = nwb.units.spike_times_index[best_unit_idx]\n",
    "rasters = [(spike_times[(spike_times >= onset + window[0]) & (spike_times < onset + window[1])] - onset)\n",
    "           for onset in trial_onsets]\n",
    "\n",
    "plt.figure(figsize=(10, 5))\n",
    "for i, spikes in enumerate(rasters):\n",
    "    plt.vlines(spikes, i+0.5, i+1.5, color='k', alpha=0.8)\n",
    "plt.xlabel('Time from Stimulus Onset (s)')\n",
    "plt.ylabel('Trial')\n",
    "plt.title('Spike Raster: Most Responsive Unit (RepeatFFF Stimulus)')\n",
    "plt.tight_layout()\n",
    "plt.show()"
   ]
  },
  {
   "cell_type": "markdown",
   "id": "68611721",
   "metadata": {},
   "source": [
    "**Tip:** For robust analyses, select units with activity in the stimulus window of interest. This approach helps reveal “barcoding”—precise, repeatable spike patterns across trials.\n",
    "\n",
    "---"
   ]
  },
  {
   "cell_type": "markdown",
   "id": "9db91d9f",
   "metadata": {},
   "source": [
    "## 6. Exploring Behavioral Data: Running Wheel and Eye Tracking\n",
    "\n",
    "Both running and eye movements are valuable for interpreting neural results.\n",
    "\n",
    "### Running Speed"
   ]
  },
  {
   "cell_type": "code",
   "execution_count": null,
   "id": "beca095f",
   "metadata": {},
   "outputs": [],
   "source": [
    "# Running speed trace (first 10,000 samples)\n",
    "ts_running = nwb.processing['running'].data_interfaces['running_speed']\n",
    "running_speed = ts_running.data[:10000]\n",
    "running_time = ts_running.timestamps[:10000]\n",
    "\n",
    "plt.figure(figsize=(10, 3))\n",
    "plt.plot(running_time, running_speed, color='green', lw=1)\n",
    "plt.xlabel('Time (s)')\n",
    "plt.ylabel('Running Speed (cm/s)')\n",
    "plt.title('Behavior: Running Wheel (First 10,000 samples)')\n",
    "plt.tight_layout()\n",
    "plt.show()"
   ]
  },
  {
   "cell_type": "markdown",
   "id": "38dcc1f8",
   "metadata": {},
   "source": [
    "### Eye Tracking (Ellipse Center)\n",
    "\n",
    "The eye tracking data is stored as (x, y) points in meters."
   ]
  },
  {
   "cell_type": "code",
   "execution_count": null,
   "id": "f25732d3",
   "metadata": {},
   "outputs": [],
   "source": [
    "# Eye tracking ellipse center (first 10,000 points)\n",
    "eyedata = nwb.acquisition['EyeTracking'].eye_tracking.data[:10000]\n",
    "\n",
    "plt.figure(figsize=(8, 4))\n",
    "plt.plot(eyedata[:, 0], eyedata[:, 1], '.', alpha=0.5)\n",
    "plt.xlabel('Eye X (m)')\n",
    "plt.ylabel('Eye Y (m)')\n",
    "plt.title('Behavior: Eye Tracking Ellipse XY (First ~10,000 Samples)')\n",
    "plt.tight_layout()\n",
    "plt.show()"
   ]
  },
  {
   "cell_type": "markdown",
   "id": "1992f0da",
   "metadata": {},
   "source": [
    "---\n",
    "## 7. Optogenetic Stimulation Events\n",
    "\n",
    "Intervals for optogenetic stimulation are available as a pandas DataFrame. Below is a preview:"
   ]
  },
  {
   "cell_type": "code",
   "execution_count": null,
   "id": "70996566",
   "metadata": {},
   "outputs": [],
   "source": [
    "opto_df = nwb.processing['optotagging'].data_interfaces['optogenetic_stimulation'].to_dataframe()\n",
    "print(opto_df[['start_time', 'stop_time', 'level', 'stimulus_name']].head())"
   ]
  },
  {
   "cell_type": "markdown",
   "id": "6896f32c",
   "metadata": {},
   "source": [
    "Using these intervals, you can analyze the effect of direct neural perturbations on spikes, behavior, or response reliability.\n",
    "\n",
    "---\n",
    "\n",
    "## 8. Summary and Next Steps\n",
    "\n",
    "This notebook provided an orientation to Dandiset 000563, including direct access to NWB content for:\n",
    "\n",
    "- Session/subject context and recording protocol\n",
    "- Selection and visualization of spike trains\n",
    "- Matching spikes to detailed, structured stimulus intervals\n",
    "- Behavioral and optogenetic event exploration\n",
    "\n",
    "**What you can do next:**  \n",
    "- Quantify repeatability/barcoding in neural patterns for chosen units/stimuli  \n",
    "- Explore neural-behavioral relationships by filtering/ranking on running or eye movement\n",
    "- Segment analyses by optogenetic state or block type\n",
    "- Build on these examples to analyze neural coding, population synchrony, or stimulus tuning\n",
    "\n",
    "**For more details:**\n",
    "- [Explore the Dandiset on DANDI](https://dandiarchive.org/dandiset/000563/0.250311.2145)\n",
    "- [NWB Documentation](https://www.nwb.org/)\n",
    "\n",
    "---\n",
    "\n",
    "*Notebook generated with the help of AI. Please validate all results and use these examples as a foundation for your own rigorous exploration!*"
   ]
  }
 ],
 "metadata": {
  "jupytext": {
   "cell_metadata_filter": "-all",
   "main_language": "python",
   "notebook_metadata_filter": "-all"
  }
 },
 "nbformat": 4,
 "nbformat_minor": 5
}
