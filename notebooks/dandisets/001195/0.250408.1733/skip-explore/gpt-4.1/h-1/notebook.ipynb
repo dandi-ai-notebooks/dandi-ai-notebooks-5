{
 "cells": [
  {
   "cell_type": "markdown",
   "id": "74427bf4",
   "metadata": {},
   "source": [
    "# Exploring Dandiset 001195: Separable Dorsal Raphe Dopamine Projections Mediate the Facets of Loneliness-like State\n",
    "\n",
    "*This notebook was generated with the assistance of AI. Please double-check code and interpretations before drawing scientific conclusions.*\n",
    "\n",
    "---\n",
    "\n",
    "## Overview\n",
    "\n",
    "This notebook provides an introduction and practical starting point for reanalyzing **Dandiset 001195**, which contains supporting data for the study:  \n",
    "[\"Separable Dorsal Raphe Dopamine Projections Mediate the Facets of Loneliness-like State\"](https://dandiarchive.org/dandiset/001195/0.250408.1733)\n",
    "\n",
    "The dataset captures ex vivo patch-clamp electrophysiology and in vivo calcium imaging in mouse models, focusing on neural circuits underlying social motivation and loneliness-like states, specifically projections of dopamine neurons in the dorsal raphe nucleus (DRN).\n",
    "\n",
    "---\n",
    "\n",
    "## What This Notebook Covers\n",
    "\n",
    "- A brief exploration of the Dandiset contents and structure using the DANDI API\n",
    "- Streaming and inspection of an NWB file containing intracellular electrophysiological data\n",
    "- Extraction and simple visualization of a current clamp response and the corresponding stimulation protocol\n",
    "\n",
    "The goal is to help you get started working directly with NWB files in this Dandiset for your own analyses.\n",
    "\n",
    "---\n",
    "\n",
    "## Required Packages\n",
    "\n",
    "You will need the following Python packages already installed:\n",
    "\n",
    "- `dandi`\n",
    "- `h5py`\n",
    "- `remfile`\n",
    "- `pynwb`\n",
    "- `matplotlib`\n",
    "- `numpy`\n",
    "\n",
    "---\n",
    "\n",
    "Let's get started!"
   ]
  },
  {
   "cell_type": "code",
   "execution_count": 1,
   "id": "29a0b771",
   "metadata": {
    "execution": {
     "iopub.execute_input": "2025-05-23T13:24:24.008324Z",
     "iopub.status.busy": "2025-05-23T13:24:24.008014Z",
     "iopub.status.idle": "2025-05-23T13:24:24.989282Z",
     "shell.execute_reply": "2025-05-23T13:24:24.989014Z"
    }
   },
   "outputs": [],
   "source": [
    "# Import required packages\n",
    "from dandi.dandiapi import DandiAPIClient\n",
    "import remfile\n",
    "import h5py\n",
    "import pynwb\n",
    "import numpy as np\n",
    "import matplotlib.pyplot as plt"
   ]
  },
  {
   "cell_type": "markdown",
   "id": "6b898282",
   "metadata": {},
   "source": [
    "## Listing Files in the Dandiset\n",
    "\n",
    "We'll use the DANDI API to connect to Dandiset 001195 and list some NWB asset file paths. This helps you select a file of interest for further exploration."
   ]
  },
  {
   "cell_type": "code",
   "execution_count": 2,
   "id": "66c323c4",
   "metadata": {
    "execution": {
     "iopub.execute_input": "2025-05-23T13:24:24.991335Z",
     "iopub.status.busy": "2025-05-23T13:24:24.991088Z",
     "iopub.status.idle": "2025-05-23T13:24:25.702642Z",
     "shell.execute_reply": "2025-05-23T13:24:25.701513Z"
    }
   },
   "outputs": [
    {
     "name": "stdout",
     "output_type": "stream",
     "text": [
      "First 5 NWB files in this dandiset:\n",
      " - sub-23/sub-23_ses-20150324T134114_slice-slice-1_cell-C1_icephys.nwb\n",
      " - sub-23/sub-23_ses-20150324T161217_slice-slice-2_cell-B3_icephys.nwb\n",
      " - sub-235/sub-235_ses-20200921T142415_slice-slice-1_cell-C3_icephys.nwb\n",
      " - sub-23/sub-23_ses-20150324T154615_slice-slice-2_cell-B2_icephys.nwb\n",
      " - sub-23/sub-23_ses-20150324T152016_slice-slice-2_cell-B1_icephys.nwb\n"
     ]
    }
   ],
   "source": [
    "# Connect to the DANDI API and grab Dandiset 001195, version 0.250408.1733\n",
    "dandiset_id = \"001195\"\n",
    "dandiset_version = \"0.250408.1733\"\n",
    "\n",
    "client = DandiAPIClient()\n",
    "dandiset = client.get_dandiset(dandiset_id, dandiset_version)\n",
    "\n",
    "# List the first 5 .nwb assets for a quick overview\n",
    "assets = list(dandiset.get_assets())\n",
    "nwb_files = [a.path for a in assets if a.path.endswith('.nwb')]\n",
    "\n",
    "print(\"First 5 NWB files in this dandiset:\")\n",
    "for path in nwb_files[:5]:\n",
    "    print(\" -\", path)"
   ]
  },
  {
   "cell_type": "markdown",
   "id": "333c4c15",
   "metadata": {},
   "source": [
    "## Streaming and Reading an NWB File Remotely\n",
    "\n",
    "Let's choose an example NWB file and demonstrate how to stream it using `remfile` and open it with `h5py` and `pynwb`, avoiding a local download.\n",
    "\n",
    "*We use `sub-23/sub-23_ses-20150324T134114_slice-slice-1_cell-C1_icephys.nwb` for demonstration.*"
   ]
  },
  {
   "cell_type": "code",
   "execution_count": 3,
   "id": "b6b726ce",
   "metadata": {
    "execution": {
     "iopub.execute_input": "2025-05-23T13:24:25.705367Z",
     "iopub.status.busy": "2025-05-23T13:24:25.705066Z",
     "iopub.status.idle": "2025-05-23T13:24:40.928296Z",
     "shell.execute_reply": "2025-05-23T13:24:40.927896Z"
    }
   },
   "outputs": [
    {
     "name": "stdout",
     "output_type": "stream",
     "text": [
      "Streaming from URL: https://api.dandiarchive.org/api/dandisets/001195/versions/0.250408.1733/assets/a243dde4-c270-42a9-8550-025f5ffcd5a7/download/\n"
     ]
    },
    {
     "name": "stdout",
     "output_type": "stream",
     "text": [
      "Loaded NWB file with identifier: a18b081c-3b63-45df-b702-fc3640aef3de\n"
     ]
    }
   ],
   "source": [
    "# Choose a sample NWB file path\n",
    "sample_nwb_path = \"sub-23/sub-23_ses-20150324T134114_slice-slice-1_cell-C1_icephys.nwb\"\n",
    "\n",
    "# Get download URL for the remote file using the DANDI API\n",
    "sample_asset = next(dandiset.get_assets_by_glob(sample_nwb_path))\n",
    "url = sample_asset.download_url\n",
    "print(\"Streaming from URL:\", url)\n",
    "\n",
    "# Open as a remote file (no local download)\n",
    "remote_file = remfile.File(url)\n",
    "h5_file = h5py.File(remote_file, 'r')\n",
    "\n",
    "# Open as an NWB file using pynwb\n",
    "io = pynwb.NWBHDF5IO(file=h5_file, load_namespaces=True)\n",
    "nwb = io.read()\n",
    "print(\"Loaded NWB file with identifier:\", nwb.identifier)"
   ]
  },
  {
   "cell_type": "markdown",
   "id": "3af779eb",
   "metadata": {},
   "source": [
    "## Inspecting Metadata and Experimental Context\n",
    "\n",
    "Let's extract some key metadata from this file: subject information, genotype, anatomical target, and overall experiment context."
   ]
  },
  {
   "cell_type": "code",
   "execution_count": 4,
   "id": "4ab45bfd",
   "metadata": {
    "execution": {
     "iopub.execute_input": "2025-05-23T13:24:40.929864Z",
     "iopub.status.busy": "2025-05-23T13:24:40.929753Z",
     "iopub.status.idle": "2025-05-23T13:24:40.934013Z",
     "shell.execute_reply": "2025-05-23T13:24:40.933131Z"
    }
   },
   "outputs": [
    {
     "name": "stdout",
     "output_type": "stream",
     "text": [
      " Session description: episodic stimulation\n",
      "        Experimenter: ('Matthews, Gillian',)\n",
      "                 Lab: Kay Tye Lab\n",
      "         Institution: Massachusetts Institute of Technology\n",
      "          Subject ID: 23\n",
      "         Subject sex: F\n",
      "             Species: Mus musculus\n",
      "         Subject age: P302D\n",
      "            Genotype: heterozygote\n",
      "              Strain: DAT::Cre\n",
      " Subject description: AAV5-DIO-ChR2-eYFP into DRN\n",
      "       Date of birth: 2014-05-26T00:00:00-07:00\n",
      "\n",
      "Targeted layer / region: CeA\n",
      "Cell ID: C1\n"
     ]
    }
   ],
   "source": [
    "meta = {\n",
    "    \"Session description\": nwb.session_description,\n",
    "    \"Experimenter\": nwb.experimenter,\n",
    "    \"Lab\": nwb.lab,\n",
    "    \"Institution\": nwb.institution,\n",
    "    \"Subject ID\": nwb.subject.subject_id,\n",
    "    \"Subject sex\": nwb.subject.sex,\n",
    "    \"Species\": nwb.subject.species,\n",
    "    \"Subject age\": nwb.subject.age,\n",
    "    \"Genotype\": nwb.subject.genotype,\n",
    "    \"Strain\": nwb.subject.strain,\n",
    "    \"Subject description\": nwb.subject.description,\n",
    "    \"Date of birth\": nwb.subject.date_of_birth.isoformat(),\n",
    "}\n",
    "for k, v in meta.items():\n",
    "    print(f\"{k:>20s}: {v}\")\n",
    "\n",
    "cell_md = nwb.lab_meta_data[\"DandiIcephysMetadata\"]\n",
    "print(\"\\nTargeted layer / region:\", cell_md.targeted_layer)\n",
    "print(\"Cell ID:\", cell_md.cell_id)"
   ]
  },
  {
   "cell_type": "markdown",
   "id": "c766c6f7",
   "metadata": {},
   "source": [
    "## Listing Available Recordings and Stimuli\n",
    "\n",
    "NWB files in this dandiset often contain multiple epochs of current-clamp recordings (\"current_clamp-response-XX-ch-YY\") and the corresponding stimulus protocols (\"stimulus-XX-ch-YY\").\n",
    "\n",
    "Let's list a few: "
   ]
  },
  {
   "cell_type": "code",
   "execution_count": 5,
   "id": "964c7320",
   "metadata": {
    "execution": {
     "iopub.execute_input": "2025-05-23T13:24:40.936029Z",
     "iopub.status.busy": "2025-05-23T13:24:40.935864Z",
     "iopub.status.idle": "2025-05-23T13:24:40.940038Z",
     "shell.execute_reply": "2025-05-23T13:24:40.939406Z"
    }
   },
   "outputs": [
    {
     "name": "stdout",
     "output_type": "stream",
     "text": [
      "First 5 acquisition (recorded response) keys: ['current_clamp-response-01-ch-0', 'current_clamp-response-01-ch-1', 'current_clamp-response-02-ch-0', 'current_clamp-response-02-ch-1', 'current_clamp-response-03-ch-0']\n",
      "First 5 stimulus (input protocol) keys: ['stimulus-01-ch-0', 'stimulus-01-ch-1', 'stimulus-02-ch-0', 'stimulus-02-ch-1', 'stimulus-03-ch-0']\n"
     ]
    }
   ],
   "source": [
    "# List acquisition (recordings) and stimulus fields\n",
    "acquis_keys = list(nwb.acquisition.keys())\n",
    "stim_keys = list(nwb.stimulus.keys())\n",
    "\n",
    "print(\"First 5 acquisition (recorded response) keys:\", acquis_keys[:5])\n",
    "print(\"First 5 stimulus (input protocol) keys:\", stim_keys[:5])"
   ]
  },
  {
   "cell_type": "markdown",
   "id": "dc91d828",
   "metadata": {},
   "source": [
    "## Plotting a Current Clamp Stimulus and Response\n",
    "\n",
    "Let's plot the first episode of the current-clamp protocol, both the stimulus (injected current) and response (membrane voltage) from channel 0."
   ]
  },
  {
   "cell_type": "code",
   "execution_count": 6,
   "id": "6d121724",
   "metadata": {
    "execution": {
     "iopub.execute_input": "2025-05-23T13:24:40.941766Z",
     "iopub.status.busy": "2025-05-23T13:24:40.941569Z",
     "iopub.status.idle": "2025-05-23T13:24:41.117453Z",
     "shell.execute_reply": "2025-05-23T13:24:41.116461Z"
    }
   },
   "outputs": [
    {
     "data": {
      "image/png": "[encoded data removed]",
      "text/plain": [
       "<Figure size 800x400 with 2 Axes>"
      ]
     },
     "metadata": {},
     "output_type": "display_data"
    }
   ],
   "source": [
    "# Acquire and Stimulus objects for first episode and channel 0\n",
    "resp0 = nwb.acquisition[\"current_clamp-response-01-ch-0\"]\n",
    "stim0 = nwb.stimulus[\"stimulus-01-ch-0\"]\n",
    "\n",
    "# Convert the signal to physical units using conversion factors, as data are integer types.\n",
    "# For the response (volts): value = raw * conversion\n",
    "# For the stimulus (amperes): data is float64, use directly.\n",
    "\n",
    "# Time axis in seconds (sampling at 10 kHz)\n",
    "t = np.arange(resp0.data.shape[0]) / resp0.rate\n",
    "\n",
    "# Convert voltage response\n",
    "v = resp0.data[:] * resp0.conversion  # volts\n",
    "\n",
    "# Get stimulus current (amperes)\n",
    "i = stim0.data[:]\n",
    "\n",
    "# Plotting\n",
    "fig, (ax1, ax2) = plt.subplots(2, 1, sharex=True, figsize=(8,4), constrained_layout=True)\n",
    "ax1.plot(t, i * 1e12)  # show in pA\n",
    "ax1.set_ylabel(\"Injected current (pA)\")\n",
    "ax1.set_title(\"Current Clamp: Episode 1, Channel 0\")\n",
    "\n",
    "ax2.plot(t, v * 1e3)\n",
    "ax2.set_ylabel(\"Membrane voltage (mV)\")\n",
    "ax2.set_xlabel(\"Time (s)\")\n",
    "ax2.set_xlim([0, t[-1]])\n",
    "plt.show()"
   ]
  },
  {
   "cell_type": "markdown",
   "id": "d1cdc6a5",
   "metadata": {},
   "source": [
    "## Notes and Next Steps\n",
    "\n",
    "- This notebook demonstrated how to list assets, stream and open NWB files, inspect metadata, and plot a basic current-clamp episode from Dandiset 001195.\n",
    "- You can choose and explore other assets using the same approach, e.g., iterating over different stimulus protocols, sweeps, or cells.\n",
    "- For more advanced analyses (e.g., extracting spike times, fitting passive properties, analyzing response diversity across regions), further steps and domain-specific code will be necessary.\n",
    "\n",
    "---\n",
    "\n",
    "We hope this serves as a foundation for your exploration of the \"Separable Dorsal Raphe Dopamine Projections Mediate the Facets of Loneliness-like State\" dataset!"
   ]
  }
 ],
 "metadata": {
  "jupytext": {
   "cell_metadata_filter": "-all",
   "main_language": "python",
   "notebook_metadata_filter": "-all"
  },
  "language_info": {
   "codemirror_mode": {
    "name": "ipython",
    "version": 3
   },
   "file_extension": ".py",
   "mimetype": "text/x-python",
   "name": "python",
   "nbconvert_exporter": "python",
   "pygments_lexer": "ipython3",
   "version": "3.12.2"
  }
 },
 "nbformat": 4,
 "nbformat_minor": 5
}
